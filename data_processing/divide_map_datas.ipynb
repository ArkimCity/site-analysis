{
 "cells": [
  {
   "cell_type": "code",
   "execution_count": 3,
   "metadata": {},
   "outputs": [],
   "source": [
    "import json\n",
    "\n",
    "# 002 - 필지, 010 - 건물\n",
    "\n",
    "with open(\"AL_11_D010_20220702.json\", encoding=\"utf-8\") as f:\n",
    "    map_data_all = json.load(f)\n",
    "\n",
    "def flatten_list(list_instance):\n",
    "    if list_instance == []:\n",
    "        return list_instance\n",
    "    if isinstance(list_instance[0], list):\n",
    "        return flatten_list(list_instance[0]) + flatten_list(list_instance[1:])\n",
    "    return list_instance[:1] + flatten_list(list_instance[1:])"
   ]
  },
  {
   "cell_type": "code",
   "execution_count": 4,
   "metadata": {},
   "outputs": [
    {
     "name": "stdout",
     "output_type": "stream",
     "text": [
      "폴리곤 아님\n",
      "폴리곤 아님\n",
      "폴리곤 아님\n",
      "폴리곤 아님\n"
     ]
    }
   ],
   "source": [
    "map_data_filtered = {\"type\": map_data_all[\"type\"], \"features\": []}\n",
    "\n",
    "for each_building in map_data_all[\"features\"]:\n",
    "\n",
    "    coordinates = each_building[\"geometry\"][\"coordinates\"]\n",
    "    flattened_coordinates = flatten_list(coordinates)\n",
    "    lon_s, lat_s = flattened_coordinates[0], flattened_coordinates[1]\n",
    "\n",
    "    # if (not 125 < lon_s < 130) or (not 34 < lat_s < 39):\n",
    "    #     # 기준 잡을 때 위도 경도 맞는지 체크 - 0개\n",
    "    #     print(\"위도 경도 맞지 않음\")\n",
    "    #     continue\n",
    "    if each_building[\"geometry\"][\"type\"] != \"Polygon\":\n",
    "        # MultiPolygon 4개 존재.\n",
    "        print(\"폴리곤 아님\")\n",
    "        continue\n",
    "\n",
    "    map_data_filtered[\"features\"].append(each_building)"
   ]
  },
  {
   "cell_type": "code",
   "execution_count": 11,
   "metadata": {},
   "outputs": [
    {
     "data": {
      "text/plain": [
       "(179404.39400000032, 436476.5030000005, 219589.24000000022, 466307.8200000003)"
      ]
     },
     "execution_count": 11,
     "metadata": {},
     "output_type": "execute_result"
    }
   ],
   "source": [
    "y_min, x_min, y_max, x_max = 100000000000000, 100000000000000, -100000000000000, -100000000000000\n",
    "\n",
    "for each_building in map_data_filtered[\"features\"]:\n",
    "\n",
    "    coordinates = each_building[\"geometry\"][\"coordinates\"]\n",
    "    flattened_coordinates = flatten_list(coordinates)\n",
    "    x_s, y_s = flattened_coordinates[0], flattened_coordinates[1]\n",
    "\n",
    "    # 이상한 데이터 섞여있음\n",
    "    if x_s > y_s:\n",
    "        continue\n",
    "\n",
    "    if y_min > y_s:\n",
    "        y_min = y_s\n",
    "    \n",
    "    if x_min > x_s:\n",
    "        x_min = x_s\n",
    "    \n",
    "    if y_max < y_s:\n",
    "        y_max = y_s\n",
    "\n",
    "    if x_max < x_s:\n",
    "        x_max = x_s\n",
    "\n",
    "# 10 * 10으로 나누기 위해 최대 최소 확인\n",
    "x_min, y_min, x_max, y_max"
   ]
  },
  {
   "cell_type": "code",
   "execution_count": 16,
   "metadata": {},
   "outputs": [],
   "source": [
    "division_num = 100\n",
    "\n",
    "x_interval = (x_max - x_min) / division_num\n",
    "y_interval = (y_max - y_min) / division_num\n",
    "\n",
    "x_list = [x_min + x_interval * i for i in range(division_num + 1)]\n",
    "y_list = [y_min + y_interval * i for i in range(division_num + 1)]\n",
    "\n",
    "divided_map_data = {}\n",
    "for building_index, each_building in enumerate(map_data_filtered[\"features\"]):\n",
    "    coordinates = each_building[\"geometry\"][\"coordinates\"]\n",
    "    flattened_coordinates = flatten_list(coordinates)\n",
    "    x_s, y_s = flattened_coordinates[0], flattened_coordinates[1]\n",
    "\n",
    "    for i in range(division_num):\n",
    "        if y_list[i] <= y_s < y_list[i + 1]:\n",
    "            for j in range(division_num):\n",
    "                if x_list[j] <= x_s < x_list[j + 1]:\n",
    "\n",
    "                    if (y_list[i], x_list[i], y_list[i + 1], x_list[i + 1]) in divided_map_data:\n",
    "                        divided_map_data[(y_list[i], x_list[i], y_list[i + 1], x_list[i + 1])][\"features\"].append(each_building)\n",
    "                    else:\n",
    "                        divided_map_data[(y_list[i], x_list[i], y_list[i + 1], x_list[i + 1])] = {\"type\": map_data_all[\"type\"], \"features\": [each_building]}\n"
   ]
  },
  {
   "cell_type": "code",
   "execution_count": null,
   "metadata": {},
   "outputs": [],
   "source": [
    "[len(divided_map_data[key][\"features\"]) for key in divided_map_data]"
   ]
  },
  {
   "cell_type": "code",
   "execution_count": 21,
   "metadata": {},
   "outputs": [],
   "source": [
    "for loc_key in divided_map_data:\n",
    "    with open(f\"building_data_divided/{loc_key[0]}_{loc_key[1]}_{loc_key[2]}_{loc_key[3]}.json\", \"w\", encoding=\"utf-8\") as f:\n",
    "        json.dump(divided_map_data[loc_key], f)"
   ]
  }
 ],
 "metadata": {
  "kernelspec": {
   "display_name": "Python 3.9.13 64-bit (microsoft store)",
   "language": "python",
   "name": "python3"
  },
  "language_info": {
   "codemirror_mode": {
    "name": "ipython",
    "version": 3
   },
   "file_extension": ".py",
   "mimetype": "text/x-python",
   "name": "python",
   "nbconvert_exporter": "python",
   "pygments_lexer": "ipython3",
   "version": "3.9.13"
  },
  "orig_nbformat": 4,
  "vscode": {
   "interpreter": {
    "hash": "6d484c462d2ab9495f055eccf3aff3eec28a58188e3a9309ded8a5a23195b8ec"
   }
  }
 },
 "nbformat": 4,
 "nbformat_minor": 2
}
