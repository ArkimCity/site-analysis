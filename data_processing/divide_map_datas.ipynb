{
 "cells": [
  {
   "cell_type": "code",
   "execution_count": 3,
   "metadata": {},
   "outputs": [],
   "source": [
    "import json\n",
    "\n",
    "# 002 - 필지, 010 - 건물\n",
    "\n",
    "with open(\"AL_11_D010_20220702.json\", encoding=\"utf-8\") as f:\n",
    "    map_data_all = json.load(f)\n",
    "\n",
    "def flatten_list(list_instance):\n",
    "    if list_instance == []:\n",
    "        return list_instance\n",
    "    if isinstance(list_instance[0], list):\n",
    "        return flatten_list(list_instance[0]) + flatten_list(list_instance[1:])\n",
    "    return list_instance[:1] + flatten_list(list_instance[1:])"
   ]
  },
  {
   "cell_type": "code",
   "execution_count": 4,
   "metadata": {},
   "outputs": [
    {
     "name": "stdout",
     "output_type": "stream",
     "text": [
      "폴리곤 아님\n",
      "폴리곤 아님\n",
      "폴리곤 아님\n",
      "폴리곤 아님\n"
     ]
    }
   ],
   "source": [
    "map_data_filtered = {\"type\": map_data_all[\"type\"], \"features\": []}\n",
    "\n",
    "for each_building in map_data_all[\"features\"]:\n",
    "\n",
    "    coordinates = each_building[\"geometry\"][\"coordinates\"]\n",
    "    flattened_coordinates = flatten_list(coordinates)\n",
    "    lon_s, lat_s = flattened_coordinates[0], flattened_coordinates[1]\n",
    "\n",
    "    # if (not 125 < lon_s < 130) or (not 34 < lat_s < 39):\n",
    "    #     # 기준 잡을 때 위도 경도 맞는지 체크 - 0개\n",
    "    #     print(\"위도 경도 맞지 않음\")\n",
    "    #     continue\n",
    "    if each_building[\"geometry\"][\"type\"] != \"Polygon\":\n",
    "        # MultiPolygon 4개 존재.\n",
    "        print(\"폴리곤 아님\")\n",
    "        continue\n",
    "\n",
    "    map_data_filtered[\"features\"].append(each_building)"
   ]
  },
  {
   "cell_type": "code",
   "execution_count": 5,
   "metadata": {},
   "outputs": [
    {
     "data": {
      "text/plain": [
       "(179404.39400000032, 436476.5030000005, 219589.24000000022, 466307.8200000003)"
      ]
     },
     "execution_count": 5,
     "metadata": {},
     "output_type": "execute_result"
    }
   ],
   "source": [
    "y_min, x_min, y_max, x_max = 100000000000000, 100000000000000, -100000000000000, -100000000000000\n",
    "\n",
    "for each_building in map_data_filtered[\"features\"]:\n",
    "\n",
    "    coordinates = each_building[\"geometry\"][\"coordinates\"]\n",
    "    flattened_coordinates = flatten_list(coordinates)\n",
    "    x_s, y_s = flattened_coordinates[0], flattened_coordinates[1]\n",
    "\n",
    "    # 이상한 데이터 섞여있음\n",
    "    if x_s > y_s:\n",
    "        continue\n",
    "\n",
    "    if y_min > y_s:\n",
    "        y_min = y_s\n",
    "    \n",
    "    if x_min > x_s:\n",
    "        x_min = x_s\n",
    "    \n",
    "    if y_max < y_s:\n",
    "        y_max = y_s\n",
    "\n",
    "    if x_max < x_s:\n",
    "        x_max = x_s\n",
    "\n",
    "# 10 * 10으로 나누기 위해 최대 최소 확인\n",
    "x_min, y_min, x_max, y_max"
   ]
  },
  {
   "cell_type": "code",
   "execution_count": 10,
   "metadata": {},
   "outputs": [],
   "source": [
    "division_num = 100\n",
    "\n",
    "x_interval = (x_max - x_min) / division_num\n",
    "y_interval = (y_max - y_min) / division_num\n",
    "\n",
    "x_list = [x_min + x_interval * i for i in range(division_num + 1)]\n",
    "y_list = [y_min + y_interval * i for i in range(division_num + 1)]\n",
    "\n",
    "divided_map_data = {}\n",
    "for building_index, each_building in enumerate(map_data_filtered[\"features\"]):\n",
    "    coordinates = each_building[\"geometry\"][\"coordinates\"]\n",
    "    flattened_coordinates = flatten_list(coordinates)\n",
    "    x_s, y_s = flattened_coordinates[0], flattened_coordinates[1]\n",
    "\n",
    "    for i in range(division_num):\n",
    "        if y_list[i] <= y_s < y_list[i + 1]:\n",
    "            for j in range(division_num):\n",
    "                if x_list[j] <= x_s < x_list[j + 1]:\n",
    "\n",
    "                    if (x_list[i], y_list[i], x_list[i + 1], y_list[i + 1]) in divided_map_data:\n",
    "                        divided_map_data[(x_list[i], y_list[i], x_list[i + 1], y_list[i + 1])][\"features\"].append(each_building)\n",
    "                    else:\n",
    "                        divided_map_data[(x_list[i], y_list[i], x_list[i + 1], y_list[i + 1])] = {\"type\": map_data_all[\"type\"], \"features\": [each_building]}\n"
   ]
  },
  {
   "cell_type": "code",
   "execution_count": 11,
   "metadata": {},
   "outputs": [
    {
     "data": {
      "text/plain": [
       "[11090,\n",
       " 10023,\n",
       " 12072,\n",
       " 11781,\n",
       " 11759,\n",
       " 11750,\n",
       " 12593,\n",
       " 10961,\n",
       " 10036,\n",
       " 11163,\n",
       " 9187,\n",
       " 11835,\n",
       " 2328,\n",
       " 5931,\n",
       " 8501,\n",
       " 6851,\n",
       " 8011,\n",
       " 8642,\n",
       " 6954,\n",
       " 9813,\n",
       " 7795,\n",
       " 5258,\n",
       " 4623,\n",
       " 9543,\n",
       " 15129,\n",
       " 13197,\n",
       " 13271,\n",
       " 12598,\n",
       " 12290,\n",
       " 13806,\n",
       " 14242,\n",
       " 11671,\n",
       " 11550,\n",
       " 11882,\n",
       " 13195,\n",
       " 12711,\n",
       " 10911,\n",
       " 6856,\n",
       " 7190,\n",
       " 7882,\n",
       " 6164,\n",
       " 4655,\n",
       " 5703,\n",
       " 10895,\n",
       " 6186,\n",
       " 3088,\n",
       " 4075,\n",
       " 4666,\n",
       " 4017,\n",
       " 4366,\n",
       " 3400,\n",
       " 2852,\n",
       " 2351,\n",
       " 2581,\n",
       " 2158,\n",
       " 2140,\n",
       " 2071,\n",
       " 2100,\n",
       " 2233,\n",
       " 2330,\n",
       " 1853,\n",
       " 1293,\n",
       " 831,\n",
       " 263,\n",
       " 53,\n",
       " 414,\n",
       " 504,\n",
       " 398,\n",
       " 25,\n",
       " 5,\n",
       " 10860,\n",
       " 9366,\n",
       " 11106,\n",
       " 12859,\n",
       " 11875,\n",
       " 11030,\n",
       " 10957,\n",
       " 10693,\n",
       " 12239,\n",
       " 11041,\n",
       " 11434,\n",
       " 8850,\n",
       " 8631,\n",
       " 7227,\n",
       " 5686,\n",
       " 5588,\n",
       " 4165,\n",
       " 3150,\n",
       " 2921,\n",
       " 2215,\n",
       " 1813,\n",
       " 1489,\n",
       " 1474,\n",
       " 975,\n",
       " 300,\n",
       " 396,\n",
       " 197,\n",
       " 199,\n",
       " 177,\n",
       " 15]"
      ]
     },
     "execution_count": 11,
     "metadata": {},
     "output_type": "execute_result"
    }
   ],
   "source": [
    "[len(divided_map_data[key][\"features\"]) for key in divided_map_data]"
   ]
  },
  {
   "cell_type": "code",
   "execution_count": 12,
   "metadata": {},
   "outputs": [],
   "source": [
    "for loc_key in divided_map_data:\n",
    "    with open(f\"building_data_divided/{loc_key[0]}_{loc_key[1]}_{loc_key[2]}_{loc_key[3]}.json\", \"w\", encoding=\"utf-8\") as f:\n",
    "        json.dump(divided_map_data[loc_key], f)"
   ]
  }
 ],
 "metadata": {
  "kernelspec": {
   "display_name": "Python 3.9.13 64-bit (microsoft store)",
   "language": "python",
   "name": "python3"
  },
  "language_info": {
   "codemirror_mode": {
    "name": "ipython",
    "version": 3
   },
   "file_extension": ".py",
   "mimetype": "text/x-python",
   "name": "python",
   "nbconvert_exporter": "python",
   "pygments_lexer": "ipython3",
   "version": "3.9.13"
  },
  "orig_nbformat": 4,
  "vscode": {
   "interpreter": {
    "hash": "6d484c462d2ab9495f055eccf3aff3eec28a58188e3a9309ded8a5a23195b8ec"
   }
  }
 },
 "nbformat": 4,
 "nbformat_minor": 2
}
