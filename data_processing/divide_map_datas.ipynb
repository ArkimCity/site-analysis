{
 "cells": [
  {
   "attachments": {},
   "cell_type": "markdown",
   "metadata": {},
   "source": [
    " - ### 데이터 변환"
   ]
  },
  {
   "attachments": {},
   "cell_type": "markdown",
   "metadata": {},
   "source": [
    "\n",
    "\n",
    "- 데이터 원본 사이트\n",
    "http://openapi.nsdi.go.kr/nsdi/eios/OpenapiList.do?provOrg=NIA&gubun=F\n",
    "    - gis 건물통합정보\n",
    "    - 연속지적도형정보\n",
    "    \n",
    "<hr>\n",
    "\n",
    "- 데이터 원본 geojson 으로 변환\n",
    "https://mapshaper.org/\n",
    "    - encoding=euc-kr\n"
   ]
  },
  {
   "cell_type": "code",
   "execution_count": 1,
   "metadata": {},
   "outputs": [],
   "source": [
    "import json\n",
    "\n",
    "# 002 - 필지, 010 - 건물\n",
    "\n",
    "with open(\"AL_11_D010_20220702.json\", encoding=\"utf-8\") as f:\n",
    "    map_data_all = json.load(f)\n",
    "\n",
    "def flatten_list(list_instance):\n",
    "    if list_instance == []:\n",
    "        return list_instance\n",
    "    if isinstance(list_instance[0], list):\n",
    "        return flatten_list(list_instance[0]) + flatten_list(list_instance[1:])\n",
    "    return list_instance[:1] + flatten_list(list_instance[1:])"
   ]
  },
  {
   "cell_type": "code",
   "execution_count": 2,
   "metadata": {},
   "outputs": [
    {
     "name": "stdout",
     "output_type": "stream",
     "text": [
      "폴리곤 아님\n",
      "폴리곤 아님\n",
      "폴리곤 아님\n",
      "폴리곤 아님\n"
     ]
    }
   ],
   "source": [
    "map_data_filtered = {\"type\": map_data_all[\"type\"], \"features\": []}\n",
    "\n",
    "for each_building in map_data_all[\"features\"]:\n",
    "\n",
    "    coordinates = each_building[\"geometry\"][\"coordinates\"]\n",
    "    flattened_coordinates = flatten_list(coordinates)\n",
    "    lon_s, lat_s = flattened_coordinates[0], flattened_coordinates[1]\n",
    "\n",
    "    # if (not 125 < lon_s < 130) or (not 34 < lat_s < 39):\n",
    "    #     # 기준 잡을 때 위도 경도 맞는지 체크 - 0개\n",
    "    #     print(\"위도 경도 맞지 않음\")\n",
    "    #     continue\n",
    "    if each_building[\"geometry\"][\"type\"] != \"Polygon\":\n",
    "        # MultiPolygon 4개 존재. 편의상 극소수임으로 무시\n",
    "        print(\"폴리곤 아님\")\n",
    "        continue\n",
    "\n",
    "    map_data_filtered[\"features\"].append(each_building)"
   ]
  },
  {
   "cell_type": "code",
   "execution_count": 3,
   "metadata": {},
   "outputs": [
    {
     "data": {
      "text/plain": [
       "(179404.39400000032, 436476.5030000005, 219589.24000000022, 466307.8200000003)"
      ]
     },
     "execution_count": 3,
     "metadata": {},
     "output_type": "execute_result"
    }
   ],
   "source": [
    "y_min, x_min, y_max, x_max = 100000000000000, 100000000000000, -100000000000000, -100000000000000\n",
    "\n",
    "for each_building in map_data_filtered[\"features\"]:\n",
    "\n",
    "    coordinates = each_building[\"geometry\"][\"coordinates\"]\n",
    "    flattened_coordinates = flatten_list(coordinates)\n",
    "    x_s, y_s = flattened_coordinates[0], flattened_coordinates[1]\n",
    "\n",
    "    # 이상한 데이터 섞여있음\n",
    "    if x_s > y_s:\n",
    "        continue\n",
    "\n",
    "    if y_min > y_s:\n",
    "        y_min = y_s\n",
    "    \n",
    "    if x_min > x_s:\n",
    "        x_min = x_s\n",
    "    \n",
    "    if y_max < y_s:\n",
    "        y_max = y_s\n",
    "\n",
    "    if x_max < x_s:\n",
    "        x_max = x_s\n",
    "\n",
    "# 10 * 10으로 나누기 위해 최대 최소 확인\n",
    "x_min, y_min, x_max, y_max"
   ]
  },
  {
   "cell_type": "code",
   "execution_count": 4,
   "metadata": {},
   "outputs": [],
   "source": [
    "division_num = 50\n",
    "\n",
    "x_interval = (x_max - x_min) / division_num\n",
    "y_interval = (y_max - y_min) / division_num\n",
    "\n",
    "x_list = [x_min + x_interval * i for i in range(division_num + 1)]\n",
    "y_list = [y_min + y_interval * i for i in range(division_num + 1)]\n",
    "\n",
    "divided_map_data = {}\n",
    "for building_index, each_building in enumerate(map_data_filtered[\"features\"]):\n",
    "    coordinates = each_building[\"geometry\"][\"coordinates\"]\n",
    "    flattened_coordinates = flatten_list(coordinates)\n",
    "    x_s, y_s = flattened_coordinates[0], flattened_coordinates[1]\n",
    "\n",
    "    breaker = False\n",
    "\n",
    "    for i in range(division_num):\n",
    "        if y_list[i] <= y_s < y_list[i + 1]:\n",
    "            for j in range(division_num):\n",
    "                if x_list[j] <= x_s < x_list[j + 1]:\n",
    "\n",
    "                    if (x_list[j], y_list[i], x_list[j + 1], y_list[i + 1]) in divided_map_data:\n",
    "                        divided_map_data[(x_list[j], y_list[i], x_list[j + 1], y_list[i + 1])][\"features\"].append(each_building)\n",
    "                        breaker = True\n",
    "                        break\n",
    "                    else:\n",
    "                        divided_map_data[(x_list[j], y_list[i], x_list[j + 1], y_list[i + 1])] = {\"type\": map_data_all[\"type\"], \"features\": [each_building]}\n",
    "                        breaker = True\n",
    "                        break\n",
    "        \n",
    "        if breaker:\n",
    "            break\n"
   ]
  },
  {
   "cell_type": "code",
   "execution_count": 13,
   "metadata": {},
   "outputs": [
    {
     "data": {
      "text/plain": [
       "[15200,\n",
       " 6590,\n",
       " 35865,\n",
       " 22736,\n",
       " 95,\n",
       " 25894,\n",
       " 17715,\n",
       " 10121,\n",
       " 8901,\n",
       " 13412,\n",
       " 14535,\n",
       " 26931,\n",
       " 21641,\n",
       " 11291,\n",
       " 7465,\n",
       " 11844,\n",
       " 8373,\n",
       " 26841,\n",
       " 8009,\n",
       " 9135,\n",
       " 1557,\n",
       " 26016,\n",
       " 13261,\n",
       " 794,\n",
       " 78,\n",
       " 10144,\n",
       " 4788,\n",
       " 57,\n",
       " 131,\n",
       " 3580,\n",
       " 192,\n",
       " 20948,\n",
       " 7735,\n",
       " 19447,\n",
       " 602,\n",
       " 20687,\n",
       " 8326,\n",
       " 12840,\n",
       " 18145,\n",
       " 15905,\n",
       " 11032,\n",
       " 11833,\n",
       " 3068,\n",
       " 1958,\n",
       " 3155,\n",
       " 4,\n",
       " 1,\n",
       " 9843,\n",
       " 800,\n",
       " 22972,\n",
       " 1999,\n",
       " 3707,\n",
       " 28743,\n",
       " 14179,\n",
       " 154,\n",
       " 12337,\n",
       " 3909,\n",
       " 9461,\n",
       " 5772,\n",
       " 24,\n",
       " 1135,\n",
       " 2222,\n",
       " 16,\n",
       " 12498,\n",
       " 6804,\n",
       " 170,\n",
       " 3789,\n",
       " 9636,\n",
       " 289,\n",
       " 102,\n",
       " 40]"
      ]
     },
     "execution_count": 13,
     "metadata": {},
     "output_type": "execute_result"
    }
   ],
   "source": [
    "[len(divided_map_data[key][\"features\"]) for key in divided_map_data]"
   ]
  },
  {
   "cell_type": "code",
   "execution_count": 5,
   "metadata": {},
   "outputs": [],
   "source": [
    "for loc_key in divided_map_data:\n",
    "    with open(f\"building_data_divided/{loc_key[0]}_{loc_key[1]}_{loc_key[2]}_{loc_key[3]}.json\", \"w\", encoding=\"utf-8\") as f:\n",
    "        json.dump(divided_map_data[loc_key], f)"
   ]
  },
  {
   "cell_type": "code",
   "execution_count": null,
   "metadata": {},
   "outputs": [],
   "source": []
  }
 ],
 "metadata": {
  "kernelspec": {
   "display_name": "Python 3.11.1 64-bit (microsoft store)",
   "language": "python",
   "name": "python3"
  },
  "language_info": {
   "codemirror_mode": {
    "name": "ipython",
    "version": 3
   },
   "file_extension": ".py",
   "mimetype": "text/x-python",
   "name": "python",
   "nbconvert_exporter": "python",
   "pygments_lexer": "ipython3",
   "version": "3.11.1"
  },
  "orig_nbformat": 4,
  "vscode": {
   "interpreter": {
    "hash": "ed97cdcf6ebf43f9efac0d2681fca845bccaf51d8febd94cf03232e8b466b30d"
   }
  }
 },
 "nbformat": 4,
 "nbformat_minor": 2
}
